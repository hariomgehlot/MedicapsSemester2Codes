{
 "cells": [
  {
   "cell_type": "code",
   "execution_count": 11,
   "metadata": {},
   "outputs": [
    {
     "name": "stdout",
     "output_type": "stream",
     "text": [
      "Enter length of ractangle :5\n",
      "Enter width of ractangle :3\n",
      "Perimeter of given rectangle is :16.000000\n"
     ]
    }
   ],
   "source": [
    "#1.Perimenter of Rectangle\n",
    "length=float(input(\"Enter length of ractangle :\"))\n",
    "width=float(input(\"Enter width of ractangle :\"))\n",
    "print(\"Perimeter of given rectangle is :%f\" %(2*(length+width)))"
   ]
  },
  {
   "cell_type": "code",
   "execution_count": 9,
   "metadata": {},
   "outputs": [
    {
     "name": "stdout",
     "output_type": "stream",
     "text": [
      "Enter radius of circle :6\n",
      "Area of circle is 113.09733552923255 \n",
      "and circumference of circle is 37.69911184307752\n"
     ]
    }
   ],
   "source": [
    "#2. Area and circumference of a circle.\n",
    "import math\n",
    "radius = float(input(\"Enter radius of circle :\"))\n",
    "print(\"Area of circle is {} \\nand circumference of circle is {}\".format((math.pi*radius**2),(2*math.pi*radius)))"
   ]
  },
  {
   "cell_type": "code",
   "execution_count": 14,
   "metadata": {},
   "outputs": [
    {
     "name": "stdout",
     "output_type": "stream",
     "text": [
      "Enter two numbers : 73948598436 345987349583847\n",
      "345987349583847 is greater.\n"
     ]
    }
   ],
   "source": [
    "#3. Greater of two numbers\n",
    "nums = input(\"Enter two numbers : \").split()\n",
    "print(nums[0],\"is greater.\") if int(nums[0])> int(nums[1]) else print(nums[1],\"is greater.\")"
   ]
  },
  {
   "cell_type": "code",
   "execution_count": 19,
   "metadata": {},
   "outputs": [
    {
     "name": "stdout",
     "output_type": "stream",
     "text": [
      "What do you want to convert F or C :c\n",
      "Enter temperature in Celcius: 56\n",
      "Temperature in Fahrenheit is : 132.80\n"
     ]
    }
   ],
   "source": [
    "#4 and 5.Combined of celcius to fahrenheit and fahrenhit to celsius.\n",
    "ch=input(\"What do you want to convert F or C :\")\n",
    "if(ch==\"F\" or ch==\"f\"):\n",
    "    fahrenheit=float(input(\"Enter temperature in fahrenheit: \"))\n",
    "    print(\"Temperature in Celcius is : %.2f\"%((fahrenheit-32)*5/9))\n",
    "elif(ch==\"C\" or ch==\"c\"):\n",
    "    celcius=float(input(\"Enter temperature in Celcius: \"))\n",
    "    print(\"Temperature in Fahrenheit is : %.2f\"%((celcius*9/5)+32))\n",
    "else:\n",
    "        print(\"Enter correct choice.\")\n",
    "        "
   ]
  },
  {
   "cell_type": "code",
   "execution_count": 22,
   "metadata": {},
   "outputs": [
    {
     "name": "stdout",
     "output_type": "stream",
     "text": [
      "Enter a number to check it is odd or even: 6\n",
      "6  is Even.\n"
     ]
    }
   ],
   "source": [
    "#6.Odd_Even\n",
    "num=int(input(\"Enter a number to check it is odd or even: \"))\n",
    "print(num,\"is Even.\") if (num%2==0) else print(num, \"is Odd.\")"
   ]
  },
  {
   "cell_type": "code",
   "execution_count": 29,
   "metadata": {},
   "outputs": [
    {
     "name": "stdout",
     "output_type": "stream",
     "text": [
      "Enter two float numbers : 5.6\n",
      "Please enter two numbers only.\n"
     ]
    }
   ],
   "source": [
    "#7. input two floats and print their sum using .format()\n",
    "floats=input(\"Enter two float numbers : \").split()\n",
    "if(len(floats)==2):\n",
    "    print(\"The sum of {} and {} is {} \".format((float(floats[0])),(float(floats[1])),(float(floats[0]))+(float(floats[1]))))\n",
    "else:   \n",
    "    print(\"Please enter two numbers.\")"
   ]
  },
  {
   "cell_type": "code",
   "execution_count": 30,
   "metadata": {},
   "outputs": [
    {
     "name": "stdout",
     "output_type": "stream",
     "text": [
      "Enter two complex numbers : 3+2j 6+5j\n",
      "The sum of (3+2j) and (6+5j) is (9+7j) \n"
     ]
    }
   ],
   "source": [
    "#8. Sum of two complex numbers.\n",
    "complexes = input(\"Enter two complex numbers : \").split()\n",
    "if(len(complexes)==2):\n",
    "    print(\"The sum of {} and {} is {} \".format((complex(complexes[0])),(complex(complexes[1])),(complex(complexes[0]))+(complex(complexes[1]))))\n",
    "else:   \n",
    "    print(\"Please enter two numbers.\")"
   ]
  },
  {
   "cell_type": "code",
   "execution_count": 1,
   "metadata": {},
   "outputs": [
    {
     "name": "stdout",
     "output_type": "stream",
     "text": [
      "10  is of type  <class 'int'>\n",
      "Str is of type  <class 'str'>\n",
      "True is of type  <class 'bool'>\n",
      "234.653 is of type  <class 'float'>\n",
      "(2+3j) is of type  <class 'complex'>\n"
     ]
    }
   ],
   "source": [
    "#9.Fundamental data types\n",
    "n=10\n",
    "print(n,\" is of type \",type(n))\n",
    "n=\"Str\"\n",
    "print(n+\" is of type \",type(n))\n",
    "n=True\n",
    "print(n,\"is of type \",type(n))\n",
    "n=234.653\n",
    "print(n,\"is of type \",type(n))\n",
    "n=3j+2\n",
    "print(n,\"is of type \",type(n))"
   ]
  },
  {
   "cell_type": "markdown",
   "metadata": {},
   "source": [
    "#### "
   ]
  },
  {
   "cell_type": "code",
   "execution_count": 14,
   "metadata": {},
   "outputs": [
    {
     "name": "stdout",
     "output_type": "stream",
     "text": [
      "200  in binary is   0b11001000\n",
      "200  in octal is   0o310\n",
      "200  in hexadecimal is   0xc8\n",
      "\n",
      "171  in decimal is   171\n",
      "171  in binary is   0b10101011\n",
      "171  in octal is   0o253\n",
      "\n",
      "149  in decimal is   149\n",
      "149  in octal is   0o225\n",
      "149  in hexadecimal is   0x95\n",
      "\n",
      "2802990  in decimal is   0o12542456\n",
      "2802990  in binary is   0b1010101100010100101110\n",
      "2802990  in hexadecimal is   0x2ac52e\n"
     ]
    }
   ],
   "source": [
    "#10. Type conversion or casting.\n",
    "n =200\n",
    "print(n,\" in binary is  \",bin(n))\n",
    "print(n,\" in octal is  \",oct(n))\n",
    "print(n,\" in hexadecimal is  \",hex(n))\n",
    "print()\n",
    "n=0xAB\n",
    "print(n,\" in decimal is  \",n)\n",
    "print(n,\" in binary is  \",bin(n))\n",
    "print(n,\" in octal is  \",oct(n))\n",
    "print()\n",
    "n=0b10010101\n",
    "print(n,\" in decimal is  \",n)\n",
    "print(n,\" in octal is  \",oct(n))\n",
    "print(n,\" in hexadecimal is  \",hex(n))\n",
    "print()\n",
    "n=0o12542456\n",
    "print(n,\" in decimal is  \",oct(n))\n",
    "print(n,\" in binary is  \",bin(n))\n",
    "print(n,\" in hexadecimal is  \",hex(n))"
   ]
  },
  {
   "cell_type": "code",
   "execution_count": 7,
   "metadata": {},
   "outputs": [
    {
     "name": "stdout",
     "output_type": "stream",
     "text": [
      "2 1 0 -1\n"
     ]
    }
   ],
   "source": [
    "#11. Four booleans:\n",
    "bool1=True+True\n",
    "bool2=True+False\n",
    "bool3=False+False\n",
    "bool4=False-True\n",
    "print(bool1,bool2,bool3,bool4)"
   ]
  },
  {
   "cell_type": "code",
   "execution_count": 10,
   "metadata": {},
   "outputs": [
    {
     "name": "stdout",
     "output_type": "stream",
     "text": [
      "This is a \n",
      "Multiline String.\n"
     ]
    }
   ],
   "source": [
    "#12. Multiline String \n",
    "multilineString=\"\"\"This is a \n",
    "Multiline String.\"\"\"\n",
    "multilineString.strip(\" \")\n",
    "\n",
    "print(multilineString)\n"
   ]
  },
  {
   "cell_type": "code",
   "execution_count": 56,
   "metadata": {},
   "outputs": [
    {
     "name": "stdout",
     "output_type": "stream",
     "text": [
      "Equation is ax^2 + b + c :\n",
      "Enter value of a:1\n",
      "Enter value of b:5\n",
      "Enter value of c:6\n",
      " real and different roots \n",
      "(-2+0j)\n",
      "(-3+0j)\n"
     ]
    }
   ],
   "source": [
    "#13 Quadratic Equation\n",
    "import cmath\n",
    "print(\"Equation is ax^2 + b + c :\")\n",
    "a=float(input(\"Enter value of a:\"))\n",
    "b=float(input(\"Enter value of b:\"))\n",
    "c=float(input(\"Enter value of c:\"))\n",
    "disc=b**2 -4*a*c\n",
    "square_root = cmath.sqrt(abs(disc))\n",
    "if disc >0:\n",
    "    print(\" real and different roots \")  \n",
    "    print((-b + square_root)/(2 * a))  \n",
    "    print((-b - square_root)/(2 * a))  \n",
    "elif disc<0:\n",
    "    print(\" real and same roots\")  \n",
    "    print(-b / (2 * a))  \n",
    "else:\n",
    "    print(\"Complex Roots\")  \n",
    "    print(- b / (2 * a), \" + i\", square_root)  \n",
    "    print(- b / (2 * a), \" - i\", square_root)  "
   ]
  },
  {
   "cell_type": "markdown",
   "metadata": {},
   "source": [
    "### "
   ]
  },
  {
   "cell_type": "code",
   "execution_count": 20,
   "metadata": {},
   "outputs": [
    {
     "name": "stdout",
     "output_type": "stream",
     "text": [
      "Enter three numbers : 3 3 1\n",
      "3\n"
     ]
    }
   ],
   "source": [
    "#14.Biggest of Three\n",
    "lists=input(\"Enter three numbers : \").split()\n",
    "if(len(lists)==3):\n",
    "    if(lists[0] >= lists[1] and lists[0] >= lists[2]):\n",
    "        biggest =lists[0]\n",
    "    elif(lists[1] >= lists[0] and lists[1] >= lists[2]):\n",
    "        biggest =lists[1]\n",
    "    else:\n",
    "        biggest =lists[2]\n",
    "    print(biggest)\n",
    "else:\n",
    "    print(\"Enter three numbers!\")"
   ]
  },
  {
   "cell_type": "markdown",
   "metadata": {},
   "source": [
    "##### "
   ]
  },
  {
   "cell_type": "code",
   "execution_count": 28,
   "metadata": {},
   "outputs": [
    {
     "name": "stdout",
     "output_type": "stream",
     "text": [
      "Enter a single digit number: 7.7\n",
      "Enter single digit only\n"
     ]
    }
   ],
   "source": [
    "#15. Number to Spell\n",
    "num =input(\"Enter a single digit number: \")\n",
    "if len(num)==1:\n",
    "    try:\n",
    "        num=int(num)\n",
    "        if(num==1):\n",
    "            print(\"One\")\n",
    "        elif(num==2):\n",
    "            print(\"Two\")\n",
    "        elif(num==3):\n",
    "            print(\"Three\")\n",
    "        elif(num==4):\n",
    "            print(\"Four\")\n",
    "        elif(num==5):\n",
    "            print(\"Five\")\n",
    "        elif(num==6):\n",
    "            print(\"Six\")\n",
    "        elif(num==7):\n",
    "            print(\"Seven\")\n",
    "        elif(num==8):\n",
    "            print(\"Eight\")\n",
    "        elif(num==9):\n",
    "            print(\"Nine\")\n",
    "        elif(num==0):\n",
    "            print(\"Zero\")\n",
    "    except:\n",
    "        print(\"An Exception Occurred!\\nPlease enter number only.\")\n",
    "else:\n",
    "    print(\"Enter single digit only\")\n",
    "    "
   ]
  },
  {
   "cell_type": "code",
   "execution_count": 40,
   "metadata": {},
   "outputs": [
    {
     "name": "stdout",
     "output_type": "stream",
     "text": [
      "Enter a number : 0\n",
      "Number is Zero!\n"
     ]
    }
   ],
   "source": [
    "#16. Positive Negative Zero\n",
    "num=input(\"Enter a number : \")\n",
    "try:\n",
    "    num=int(num)\n",
    "    if(num==0):\n",
    "        print(\"Number is Zero!\")\n",
    "    elif num>0:\n",
    "        print(\"Number is positive!\")\n",
    "    elif num<0:\n",
    "        print(\"Nunber is negative!\")\n",
    "except:\n",
    "    print(\"Enter a number only!\")"
   ]
  },
  {
   "cell_type": "code",
   "execution_count": 46,
   "metadata": {},
   "outputs": [
    {
     "name": "stdout",
     "output_type": "stream",
     "text": [
      "Enter a number :50\n",
      "Number is not in range of 5 to 50!.\n"
     ]
    }
   ],
   "source": [
    "#16. Number is in range\n",
    "num=int(input(\"Enter a number :\"))\n",
    "if num in range(5,51):\n",
    "    print(\"Number is in range of 5 to 50!.\")\n",
    "else:\n",
    "    print(\"Number is not in range of 5 to 50!.\")"
   ]
  },
  {
   "cell_type": "code",
   "execution_count": 9,
   "metadata": {},
   "outputs": [
    {
     "name": "stdout",
     "output_type": "stream",
     "text": [
      "Enter number limit : 10\n",
      "55\n"
     ]
    }
   ],
   "source": [
    "#17 sum of n natural numbers\n",
    "num = int(input(\"Enter number limit : \"))\n",
    "sum=0\n",
    "for i in range(1,num+1):\n",
    "    sum+=i\n",
    "print(sum)"
   ]
  },
  {
   "cell_type": "code",
   "execution_count": 11,
   "metadata": {},
   "outputs": [
    {
     "name": "stdout",
     "output_type": "stream",
     "text": [
      "Enter number limit : 10\n",
      "385\n"
     ]
    }
   ],
   "source": [
    "#18sum of squares of n natural numbers\n",
    "num = int(input(\"Enter number limit : \"))\n",
    "sumofSquares=0\n",
    "for i in range(1,num+1):\n",
    "    sumofSquares+=i**2\n",
    "print(sumofSquares)"
   ]
  },
  {
   "cell_type": "code",
   "execution_count": 12,
   "metadata": {},
   "outputs": [
    {
     "name": "stdout",
     "output_type": "stream",
     "text": [
      "Enter number limit : 10\n",
      "3025\n"
     ]
    }
   ],
   "source": [
    "#19 sum of cube of n natural numbers\n",
    "num = int(input(\"Enter number limit : \"))\n",
    "sumofCubes=0\n",
    "for i in range(1,num+1):\n",
    "    sumofCubes+=i**3\n",
    "print(sumofCubes)"
   ]
  },
  {
   "cell_type": "code",
   "execution_count": 69,
   "metadata": {},
   "outputs": [
    {
     "name": "stdout",
     "output_type": "stream",
     "text": [
      "Enter number : -4\n",
      "1\n"
     ]
    }
   ],
   "source": [
    "#20 Factorial of a number:\n",
    "num = int(input(\"Enter number : \"))\n",
    "factorial=1\n",
    "for i in range(num,0,-1):\n",
    "    print(i,end=\"*\") if i!=1 else print(i,end=\"=\")\n",
    "    factorial*=i\n",
    "print(factorial)\n",
    "    "
   ]
  },
  {
   "cell_type": "code",
   "execution_count": 52,
   "metadata": {},
   "outputs": [
    {
     "name": "stdout",
     "output_type": "stream",
     "text": [
      "Enter a number to check prime or not:98\n",
      "Not Prime!\n"
     ]
    }
   ],
   "source": [
    "#21 Prime or not \n",
    "num =int(input(\"Enter a number to check prime or not:\"))\n",
    "flag=False\n",
    "for i in range(2,num):\n",
    "           if num%i==0:\n",
    "                flag=True\n",
    "print(\"Prime!\") if flag==False else print(\"Not Prime!\")"
   ]
  },
  {
   "cell_type": "code",
   "execution_count": 58,
   "metadata": {},
   "outputs": [
    {
     "name": "stdout",
     "output_type": "stream",
     "text": [
      "Enter numbers of fibbonacci : 10\n",
      "0 1 1 2 3 5 8 13 21 34 "
     ]
    }
   ],
   "source": [
    "#22 Fibbonacci series\n",
    "num=int(input(\"Enter numbers of fibbonacci : \"))\n",
    "a=0\n",
    "b=1\n",
    "while num!=0:\n",
    "    print(a,end=\" \")\n",
    "    c=a+b\n",
    "    a=b\n",
    "    b=c\n",
    "    num=num-1\n",
    "    "
   ]
  },
  {
   "cell_type": "code",
   "execution_count": 60,
   "metadata": {},
   "outputs": [
    {
     "name": "stdout",
     "output_type": "stream",
     "text": [
      "10 9 8 7 6 5 4 3 2 1 "
     ]
    }
   ],
   "source": [
    "#23 Descending order\n",
    "for k in range(10,0,-1):\n",
    "    print(k,end=\" \")"
   ]
  },
  {
   "cell_type": "code",
   "execution_count": 70,
   "metadata": {
    "scrolled": true
   },
   "outputs": [
    {
     "name": "stdout",
     "output_type": "stream",
     "text": [
      "Enter any number : 5\n",
      "Enter any second number : 8.8\n",
      "13.8\n"
     ]
    }
   ],
   "source": [
    "#24 Eval Example\n",
    "num1 = eval(input(\"Enter any number : \"))\n",
    "num2= eval(input(\"Enter any second number : \"))\n",
    "print(num1+num2)"
   ]
  },
  {
   "cell_type": "code",
   "execution_count": 65,
   "metadata": {},
   "outputs": [
    {
     "name": "stdout",
     "output_type": "stream",
     "text": [
      "Enter any 5 digit number : 36534\n",
      "Sum is : 21\n"
     ]
    }
   ],
   "source": [
    "#25 Sum of digits\n",
    "num =input(\"Enter any 5 digit number : \")\n",
    "if len(num)==5:\n",
    "    sum=int(num[0])+int(num[1])+int(num[2])+int(num[3])+int(num[4])\n",
    "    print(\"Sum is :\",sum)\n",
    "else:\n",
    "    print(\"Enter only five digit number.\")"
   ]
  },
  {
   "cell_type": "code",
   "execution_count": 67,
   "metadata": {},
   "outputs": [
    {
     "name": "stdout",
     "output_type": "stream",
     "text": [
      "Enter any 5 digit number : 45456\n",
      "65454\n"
     ]
    }
   ],
   "source": [
    "#26 Reverse of 5 digit number\n",
    "num =input(\"Enter any 5 digit number : \")\n",
    "print(num[::-1])"
   ]
  },
  {
   "cell_type": "code",
   "execution_count": 1,
   "metadata": {},
   "outputs": [
    {
     "name": "stdout",
     "output_type": "stream",
     "text": [
      "Enter first  number5\n",
      "Enter second number10\n",
      "Enter third  number15\n",
      "Original numbers are : 5 10 15\n",
      "Swapped numbers are : 15 5 10\n"
     ]
    }
   ],
   "source": [
    "#28 Swap three numbers\n",
    "x=int(input(\"Enter first  number : \"))\n",
    "y=int(input(\"Enter second number : \"))\n",
    "z=int(input(\"Enter third  number : \"))\n",
    "print(\"Original numbers are :\",x,y,z)\n",
    "x,y,z=z,x,y\n",
    "print(\"Swapped numbers are :\",x,y,z)\n"
   ]
  },
  {
   "cell_type": "code",
   "execution_count": 29,
   "metadata": {
    "scrolled": true
   },
   "outputs": [
    {
     "name": "stdout",
     "output_type": "stream",
     "text": [
      "Enter the quantity of lines :5\n",
      "1 \n",
      "\n",
      "1 2 \n",
      "\n",
      "1 2 3 \n",
      "\n",
      "1 2 3 4 \n",
      "\n",
      "1 2 3 4 5 \n",
      "\n",
      "------------------------\n",
      "1 \n",
      "\n",
      "2 2 \n",
      "\n",
      "3 3 3 \n",
      "\n",
      "4 4 4 4 \n",
      "\n",
      "5 5 5 5 5 \n",
      "\n",
      "------------------------\n",
      "A \n",
      "\n",
      "A B \n",
      "\n",
      "A B C \n",
      "\n",
      "A B C D \n",
      "\n",
      "A B C D E \n",
      "\n",
      "------------------------\n",
      "A \n",
      "\n",
      "B B \n",
      "\n",
      "C C C \n",
      "\n",
      "D D D D \n",
      "\n",
      "E E E E E \n",
      "\n",
      "------------------------\n",
      "*  \n",
      "\n",
      "*  *  \n",
      "\n",
      "*  *  *  \n",
      "\n",
      "*  *  *  *  \n",
      "\n",
      "*  *  *  *  *  \n",
      "\n",
      "------------------------\n",
      "      *\n",
      "\n",
      "     * *\n",
      "\n",
      "    * * *\n",
      "\n",
      "   * * * *\n",
      "\n",
      "  * * * * *\n",
      "\n"
     ]
    }
   ],
   "source": [
    "#29 Pattern Printing\n",
    "lim=int(input(\"Enter the quantity of lines :\"))\n",
    "\n",
    "for i in range(1,lim+1):\n",
    "    for j in range(1,i+1):\n",
    "        print(j,end=\" \")\n",
    "    print(\"\\n\")\n",
    "\n",
    "print(\"------------------------\")    \n",
    "for i in range(1,lim+1):\n",
    "    for j in range(1,i+1):\n",
    "        print(i,end=\" \")\n",
    "    print(\"\\n\")\n",
    "\n",
    "print(\"------------------------\")    \n",
    "import string\n",
    "alphas=string.ascii_uppercase\n",
    "for i in range(0,lim):\n",
    "    for j in range(0,i+1):\n",
    "        print(alphas[j],end=\" \")\n",
    "    print(\"\\n\")\n",
    "\n",
    "print(\"------------------------\")    \n",
    "for i in range(0,lim):\n",
    "    for j in range(0,i+1):\n",
    "        print(alphas[i],end=\" \")\n",
    "    print(\"\\n\")\n",
    "     \n",
    "print(\"------------------------\")    \n",
    "for i in range(0,lim):\n",
    "    for j in range(0,i+1):\n",
    "        print(\"* \",end=\" \")\n",
    "    print(\"\\n\")\n",
    "    \n",
    "print(\"------------------------\")    \n",
    "for i in range(0,lim):\n",
    "    for k in range(0,lim-i):\n",
    "        print(end=\" \")\n",
    "    for j in range(0,i+1):\n",
    "        print(\" *\",end=\" \")\n",
    "    print(\"\\n\")"
   ]
  },
  {
   "cell_type": "code",
   "execution_count": 26,
   "metadata": {},
   "outputs": [
    {
     "name": "stdout",
     "output_type": "stream",
     "text": [
      "Enter Temperature (either Warm or Cold ):Cold\n",
      "Enter Humidity (either Humid or Dry) :Dry\n",
      "Play Tennis\n",
      "Play Tennis\n"
     ]
    }
   ],
   "source": [
    "#30 Cricket Baksetball Tennis\n",
    "\n",
    "Temperature=input(\"Enter Temperature (either Warm or Cold ):\").title()\n",
    "Humidity=input(\"Enter Humidity (either Humid or Dry) :\").title()\n",
    "if Temperature == \"Warm\":\n",
    "    if Humidity ==\"Dry\":\n",
    "        print(\"Play Cricket\")\n",
    "    elif Humidity ==\"Humid\":\n",
    "        print(\"Play Basketball\")\n",
    "elif Temperature==\"Cold\":\n",
    "    if Humidity ==\"Dry\":\n",
    "        print(\"Play Tennis\")\n",
    "    elif Humidity ==\"Humid\":\n",
    "        print(\"Play Cricket\")\n",
    "        \n",
    "strings=\"Play \"        \n",
    "if Temperature==\"Warm\":\n",
    "    strings=strings+\"Cricket\" if Humidity==\"Dry\" else strings+\"Basketball\"\n",
    "else : \n",
    "    strings=strings+\"Tennis\" if Humidity ==\"Dry\" else strings+\"Cricket\"\n",
    "print(strings)\n",
    "        "
   ]
  },
  {
   "cell_type": "code",
   "execution_count": 27,
   "metadata": {},
   "outputs": [
    {
     "name": "stdout",
     "output_type": "stream",
     "text": [
      "Enter a string with spaces : (Trailing or leading ) :   Python   .   \n",
      "String with stripped whitespaces :'Python   .'\n",
      "String with stripped whitespaces at left :'Python   .   '\n",
      "String with stripped whitespaces at right :'  Python   .'"
     ]
    }
   ],
   "source": [
    "#31 String Strip\n",
    "\n",
    "string1= input(\"Enter a string with spaces : (Trailing or leading ) : \")\n",
    "print(\"String with stripped whitespaces :'{}\".format(string1.strip()),end=\"'\")\n",
    "print()\n",
    "print(\"String with stripped whitespaces at left :'{}\".format(string1.lstrip()),end=\"'\")\n",
    "print()\n",
    "print(\"String with stripped whitespaces at right :'{}\".format(string1.rstrip()),end=\"'\")"
   ]
  },
  {
   "cell_type": "code",
   "execution_count": 29,
   "metadata": {
    "scrolled": true
   },
   "outputs": [
    {
     "name": "stdout",
     "output_type": "stream",
     "text": [
      "3  attempts remaining.\n",
      "Enter Password :whad\n",
      "Wrong password!\n",
      "Please try again!\n",
      "\n",
      "2  attempts remaining.\n",
      "Enter Password :fdgfdgk\n",
      "Wrong password!\n",
      "Please try again!\n",
      "\n",
      "1  attempts remaining.\n",
      "Enter Password :fkjhsd\n",
      "Wrong password!\n"
     ]
    }
   ],
   "source": [
    "#32 Password matching\n",
    "\n",
    "original =\"Python\"\n",
    "count =3\n",
    "while count >0 :\n",
    "    print(count,\" attempts remaining.\")\n",
    "    userpass =input(\"Enter Password :\")\n",
    "    if userpass == original:\n",
    "        print(\"Welcome to python.\")\n",
    "        count=0\n",
    "    else:\n",
    "        print(\"Wrong password!\")\n",
    "        if count!=1 :\n",
    "            print(\"Please try again!\")\n",
    "            print()\n",
    "        count=count-1\n",
    "        \n",
    "    \n",
    "    "
   ]
  },
  {
   "cell_type": "code",
   "execution_count": 24,
   "metadata": {},
   "outputs": [
    {
     "name": "stdout",
     "output_type": "stream",
     "text": [
      "101 103 107 109 113 127 131 137 139 149 151 157 163 167 173 179 181 191 193 197 199 "
     ]
    }
   ],
   "source": [
    "#33 Prime series using For Else\n",
    "for x in range(100,201):\n",
    "    for y in range(2,x):\n",
    "        if x%y==0:\n",
    "            break\n",
    "    else:\n",
    "        print(x,end=\" \")"
   ]
  },
  {
   "cell_type": "code",
   "execution_count": 8,
   "metadata": {},
   "outputs": [
    {
     "name": "stdout",
     "output_type": "stream",
     "text": [
      "Enter an integer!\n",
      "Enter a positive number :fdfgh\n"
     ]
    }
   ],
   "source": [
    "#34 Sum of Odd factors\n",
    "try:\n",
    "    number=int(input(\"Enter a positive number :\"))\n",
    "    if number>0:\n",
    "        sum=0\n",
    "        lists=[]\n",
    "        for j in range(1,number):\n",
    "            if number%j==0:\n",
    "                if j%2!=0:\n",
    "                    sum=sum+j\n",
    "                    lists.append(j)\n",
    "        else:\n",
    "            print(\"Odd factors of \",number,\" are :\")\n",
    "            i=0\n",
    "            while i < len(lists):\n",
    "                if (i ==len(lists)-1):\n",
    "                    print(lists[i],\" = \",end=\"\")\n",
    "                else:\n",
    "                    print(lists[i],\" + \",end=\"\")\n",
    "                i=i+1\n",
    "            print(sum)\n",
    "    else:\n",
    "        print(\"Enter a positive number!\")\n",
    "except:\n",
    "    print(\"Enter an integer!\")\n",
    "                \n",
    "             \n",
    "\n",
    "             "
   ]
  },
  {
   "cell_type": "code",
   "execution_count": 32,
   "metadata": {},
   "outputs": [
    {
     "name": "stdout",
     "output_type": "stream",
     "text": [
      "Number of Occurence of Neha in list : 3\n"
     ]
    }
   ],
   "source": [
    "#35 Occurence Counter\n",
    "namelist=[\"Adams\",\n",
    "\"Baker\",\n",
    "\"Neha\",        \n",
    "\"Clark\",\n",
    "\"Davis\",\n",
    "\"Evans\",\n",
    "\"Frank\",\n",
    "\"Ghosh\",\n",
    "\"Neha\",\n",
    "\"Hills\",\n",
    "\"Irwin\",\n",
    "\"Jones\",\n",
    "\"Klein\",\n",
    "\"Lopez\",\n",
    "\"Mason\",\n",
    "\"Neha\",\n",
    "\"Nalty\",\n",
    "\"Ochoa\",\n",
    "\"Patel\",\n",
    "\"Quinn\",\n",
    "\"Reily\"]\n",
    "print(\"Number of Occurence of Neha in list :\",namelist.count(\"Neha\"))"
   ]
  },
  {
   "cell_type": "code",
   "execution_count": null,
   "metadata": {},
   "outputs": [],
   "source": []
  },
  {
   "cell_type": "code",
   "execution_count": 37,
   "metadata": {},
   "outputs": [
    {
     "name": "stdout",
     "output_type": "stream",
     "text": [
      "List A with Squares: [1, 4, 9, 16, 25, 36, 49, 64, 81, 100]\n",
      "\n",
      "List B with Cubes: [1, 8, 27, 64, 125, 216, 343, 512, 729, 1000]\n",
      "\n",
      "List C with Even in List A: [4, 16, 36, 64, 100]\n",
      "\n"
     ]
    }
   ],
   "source": [
    "#36 Three lists square cubes evens\n",
    "listA=[j**2 for j in range(1,11)]\n",
    "listB=[j**3 for j in range(1,11)]\n",
    "listC=[j for j in listA if j%2==0]\n",
    "\n",
    "print(\"List A with Squares:\",listA,end=\"\\n\\n\")\n",
    "print(\"List B with Cubes:\",listB,end=\"\\n\\n\")\n",
    "print(\"List C with Even in List A:\",listC,end=\"\\n\\n\")"
   ]
  },
  {
   "cell_type": "code",
   "execution_count": 55,
   "metadata": {},
   "outputs": [
    {
     "name": "stdout",
     "output_type": "stream",
     "text": [
      "[5, 7, 8, 30]\n"
     ]
    }
   ],
   "source": [
    "#37 List with hetero elements sorted by int\n",
    "\n",
    "l1=['c',True,5,\"DSAFf\",(4,6),7,\"Hi\",8,30]\n",
    "\n",
    "l2=[element for element in l1 if type(element) is int]\n",
    "print(l2)"
   ]
  },
  {
   "cell_type": "code",
   "execution_count": 43,
   "metadata": {},
   "outputs": [
    {
     "name": "stdout",
     "output_type": "stream",
     "text": [
      "H e l l   m y   a m e   i s   P y o n "
     ]
    }
   ],
   "source": [
    "#38 Word1 in word 2\n",
    "word1=\"HellO my Name is Python\"\n",
    "word2=\"Hello My name is C Plus Plus\"\n",
    "for i in word1:\n",
    "        if i in word2:\n",
    "            print(i,end=\" \")"
   ]
  },
  {
   "cell_type": "code",
   "execution_count": 54,
   "metadata": {},
   "outputs": [
    {
     "name": "stdout",
     "output_type": "stream",
     "text": [
      "Lower = 10\n",
      "Upper = 7\n",
      "other= 3\n"
     ]
    }
   ],
   "source": [
    "#39 Upper Lower Counter\n",
    "upper,lower,other=0,0,0\n",
    "string=\"HeLLo tHiS IS python 4587\"\n",
    "for i in range(len(str)):\n",
    "    if(string[i]>='a' and string[i]<='z'):\n",
    "        lower+=1\n",
    "    elif(string[i]>='A' and string[i]<='Z'):\n",
    "        upper+=1\n",
    "    else:\n",
    "        other+=1\n",
    "print(\"Lower =\",lower)\n",
    "print(\"Upper =\",upper)\n",
    "print(\"other=\",other)"
   ]
  },
  {
   "cell_type": "code",
   "execution_count": null,
   "metadata": {},
   "outputs": [],
   "source": []
  },
  {
   "cell_type": "code",
   "execution_count": null,
   "metadata": {},
   "outputs": [],
   "source": []
  }
 ],
 "metadata": {
  "kernelspec": {
   "display_name": "Python 3",
   "language": "python",
   "name": "python3"
  },
  "language_info": {
   "codemirror_mode": {
    "name": "ipython",
    "version": 3
   },
   "file_extension": ".py",
   "mimetype": "text/x-python",
   "name": "python",
   "nbconvert_exporter": "python",
   "pygments_lexer": "ipython3",
   "version": "3.8.6"
  }
 },
 "nbformat": 4,
 "nbformat_minor": 2
}
