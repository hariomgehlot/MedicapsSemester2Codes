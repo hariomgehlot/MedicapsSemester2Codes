{
 "cells": [
  {
   "cell_type": "code",
   "execution_count": 11,
   "metadata": {},
   "outputs": [
    {
     "name": "stdout",
     "output_type": "stream",
     "text": [
      "Enter length of ractangle :5\n",
      "Enter width of ractangle :3\n",
      "Perimeter of given rectangle is :16.000000\n"
     ]
    }
   ],
   "source": [
    "# 1.Perimenter of Rectangle\n",
    "length = float(input(\"Enter length of ractangle :\"))\n",
    "width = float(input(\"Enter width of ractangle :\"))\n",
    "print(\"Perimeter of given rectangle is :%f\" % (2 * (length + width)))"
   ]
  },
  {
   "cell_type": "code",
   "execution_count": 9,
   "metadata": {},
   "outputs": [
    {
     "name": "stdout",
     "output_type": "stream",
     "text": [
      "Enter radius of circle :6\n",
      "Area of circle is 113.09733552923255 \n",
      "and circumference of circle is 37.69911184307752\n"
     ]
    }
   ],
   "source": [
    "# 2. Area and circumference of a circle.\n",
    "import math\n",
    "\n",
    "radius = float(input(\"Enter radius of circle :\"))\n",
    "print(\n",
    "    \"Area of circle is {} \\nand circumference of circle is {}\".format(\n",
    "        (math.pi * radius ** 2), (2 * math.pi * radius)\n",
    "    )\n",
    ")"
   ]
  },
  {
   "cell_type": "code",
   "execution_count": 14,
   "metadata": {},
   "outputs": [
    {
     "name": "stdout",
     "output_type": "stream",
     "text": [
      "Enter two numbers : 73948598436 345987349583847\n",
      "345987349583847 is greater.\n"
     ]
    }
   ],
   "source": [
    "# 3. Greater of two numbers\n",
    "nums = input(\"Enter two numbers : \").split()\n",
    "print(nums[0], \"is greater.\") if int(nums[0]) > int(nums[1]) else print(\n",
    "    nums[1], \"is greater.\"\n",
    ")"
   ]
  },
  {
   "cell_type": "code",
   "execution_count": 19,
   "metadata": {},
   "outputs": [
    {
     "name": "stdout",
     "output_type": "stream",
     "text": [
      "What do you want to convert F or C :c\n",
      "Enter temperature in Celcius: 56\n",
      "Temperature in Fahrenheit is : 132.80\n"
     ]
    }
   ],
   "source": [
    "# 4 and 5.Combined of celcius to fahrenheit and fahrenhit to celsius.\n",
    "ch = input(\"What do you want to convert F or C :\")\n",
    "if ch == \"F\" or ch == \"f\":\n",
    "    fahrenheit = float(input(\"Enter temperature in fahrenheit: \"))\n",
    "    print(\"Temperature in Celcius is : %.2f\" % ((fahrenheit - 32) * 5 / 9))\n",
    "elif ch == \"C\" or ch == \"c\":\n",
    "    celcius = float(input(\"Enter temperature in Celcius: \"))\n",
    "    print(\"Temperature in Fahrenheit is : %.2f\" % ((celcius * 9 / 5) + 32))\n",
    "else:\n",
    "    print(\"Enter correct choice.\")"
   ]
  },
  {
   "cell_type": "code",
   "execution_count": 22,
   "metadata": {},
   "outputs": [
    {
     "name": "stdout",
     "output_type": "stream",
     "text": [
      "Enter a number to check it is odd or even: 6\n",
      "6  is Even.\n"
     ]
    }
   ],
   "source": [
    "# 6.Odd_Even\n",
    "num = int(input(\"Enter a number to check it is odd or even: \"))\n",
    "print(num, \"is Even.\") if (num % 2 == 0) else print(num, \"is Odd.\")"
   ]
  },
  {
   "cell_type": "code",
   "execution_count": 29,
   "metadata": {},
   "outputs": [
    {
     "name": "stdout",
     "output_type": "stream",
     "text": [
      "Enter two float numbers : 5.6\n",
      "Please enter two numbers only.\n"
     ]
    }
   ],
   "source": [
    "# 7. input two floats and print their sum using .format()\n",
    "floats = input(\"Enter two float numbers : \").split()\n",
    "if len(floats) == 2:\n",
    "    print(\n",
    "        \"The sum of {} and {} is {} \".format(\n",
    "            (float(floats[0])),\n",
    "            (float(floats[1])),\n",
    "            (float(floats[0])) + (float(floats[1])),\n",
    "        )\n",
    "    )\n",
    "else:\n",
    "    print(\"Please enter two numbers.\")"
   ]
  },
  {
   "cell_type": "code",
   "execution_count": 30,
   "metadata": {},
   "outputs": [
    {
     "name": "stdout",
     "output_type": "stream",
     "text": [
      "Enter two complex numbers : 3+2j 6+5j\n",
      "The sum of (3+2j) and (6+5j) is (9+7j) \n"
     ]
    }
   ],
   "source": [
    "# 8. Sum of two complex numbers.\n",
    "complexes = input(\"Enter two complex numbers : \").split()\n",
    "if len(complexes) == 2:\n",
    "    print(\n",
    "        \"The sum of {} and {} is {} \".format(\n",
    "            (complex(complexes[0])),\n",
    "            (complex(complexes[1])),\n",
    "            (complex(complexes[0])) + (complex(complexes[1])),\n",
    "        )\n",
    "    )\n",
    "else:\n",
    "    print(\"Please enter two numbers.\")"
   ]
  },
  {
   "cell_type": "code",
   "execution_count": 1,
   "metadata": {},
   "outputs": [
    {
     "name": "stdout",
     "output_type": "stream",
     "text": [
      "10  is of type  <class 'int'>\n",
      "Str is of type  <class 'str'>\n",
      "True is of type  <class 'bool'>\n",
      "234.653 is of type  <class 'float'>\n",
      "(2+3j) is of type  <class 'complex'>\n"
     ]
    }
   ],
   "source": [
    "# 9.Fundamental data types\n",
    "n = 10\n",
    "print(n, \" is of type \", type(n))\n",
    "n = \"Str\"\n",
    "print(n + \" is of type \", type(n))\n",
    "n = True\n",
    "print(n, \"is of type \", type(n))\n",
    "n = 234.653\n",
    "print(n, \"is of type \", type(n))\n",
    "n = 3j + 2\n",
    "print(n, \"is of type \", type(n))"
   ]
  },
  {
   "cell_type": "markdown",
   "metadata": {},
   "source": [
    "#### "
   ]
  },
  {
   "cell_type": "code",
   "execution_count": 14,
   "metadata": {},
   "outputs": [
    {
     "name": "stdout",
     "output_type": "stream",
     "text": [
      "200  in binary is   0b11001000\n",
      "200  in octal is   0o310\n",
      "200  in hexadecimal is   0xc8\n",
      "\n",
      "171  in decimal is   171\n",
      "171  in binary is   0b10101011\n",
      "171  in octal is   0o253\n",
      "\n",
      "149  in decimal is   149\n",
      "149  in octal is   0o225\n",
      "149  in hexadecimal is   0x95\n",
      "\n",
      "2802990  in decimal is   0o12542456\n",
      "2802990  in binary is   0b1010101100010100101110\n",
      "2802990  in hexadecimal is   0x2ac52e\n"
     ]
    }
   ],
   "source": [
    "# 10. Type conversion or casting.\n",
    "n = 200\n",
    "print(n, \" in binary is  \", bin(n))\n",
    "print(n, \" in octal is  \", oct(n))\n",
    "print(n, \" in hexadecimal is  \", hex(n))\n",
    "print()\n",
    "n = 0xAB\n",
    "print(n, \" in decimal is  \", n)\n",
    "print(n, \" in binary is  \", bin(n))\n",
    "print(n, \" in octal is  \", oct(n))\n",
    "print()\n",
    "n = 0b10010101\n",
    "print(n, \" in decimal is  \", n)\n",
    "print(n, \" in octal is  \", oct(n))\n",
    "print(n, \" in hexadecimal is  \", hex(n))\n",
    "print()\n",
    "n = 0o12542456\n",
    "print(n, \" in decimal is  \", oct(n))\n",
    "print(n, \" in binary is  \", bin(n))\n",
    "print(n, \" in hexadecimal is  \", hex(n))"
   ]
  },
  {
   "cell_type": "code",
   "execution_count": 7,
   "metadata": {},
   "outputs": [
    {
     "name": "stdout",
     "output_type": "stream",
     "text": [
      "2 1 0 -1\n"
     ]
    }
   ],
   "source": [
    "# 11. Four booleans:\n",
    "bool1 = True + True\n",
    "bool2 = True + False\n",
    "bool3 = False + False\n",
    "bool4 = False - True\n",
    "print(bool1, bool2, bool3, bool4)"
   ]
  },
  {
   "cell_type": "code",
   "execution_count": 10,
   "metadata": {},
   "outputs": [
    {
     "name": "stdout",
     "output_type": "stream",
     "text": [
      "This is a \n",
      "Multiline String.\n"
     ]
    }
   ],
   "source": [
    "# 12. Multiline String\n",
    "multilineString = \"\"\"This is a \n",
    "Multiline String.\"\"\"\n",
    "multilineString.strip(\" \")\n",
    "\n",
    "print(multilineString)"
   ]
  },
  {
   "cell_type": "code",
   "execution_count": 56,
   "metadata": {},
   "outputs": [
    {
     "name": "stdout",
     "output_type": "stream",
     "text": [
      "Equation is ax^2 + b + c :\n",
      "Enter value of a:1\n",
      "Enter value of b:5\n",
      "Enter value of c:6\n",
      " real and different roots \n",
      "(-2+0j)\n",
      "(-3+0j)\n"
     ]
    }
   ],
   "source": [
    "# 13 Quadratic Equation\n",
    "import cmath\n",
    "\n",
    "print(\"Equation is ax^2 + b + c :\")\n",
    "a = float(input(\"Enter value of a:\"))\n",
    "b = float(input(\"Enter value of b:\"))\n",
    "c = float(input(\"Enter value of c:\"))\n",
    "disc = b ** 2 - 4 * a * c\n",
    "square_root = cmath.sqrt(abs(disc))\n",
    "if disc > 0:\n",
    "    print(\" real and different roots \")\n",
    "    print((-b + square_root) / (2 * a))\n",
    "    print((-b - square_root) / (2 * a))\n",
    "elif disc < 0:\n",
    "    print(\" real and same roots\")\n",
    "    print(-b / (2 * a))\n",
    "else:\n",
    "    print(\"Complex Roots\")\n",
    "    print(-b / (2 * a), \" + i\", square_root)\n",
    "    print(-b / (2 * a), \" - i\", square_root)"
   ]
  },
  {
   "cell_type": "markdown",
   "metadata": {},
   "source": [
    "### "
   ]
  },
  {
   "cell_type": "code",
   "execution_count": 20,
   "metadata": {},
   "outputs": [
    {
     "name": "stdout",
     "output_type": "stream",
     "text": [
      "Enter three numbers : 3 3 1\n",
      "3\n"
     ]
    }
   ],
   "source": [
    "# 14.Biggest of Three\n",
    "lists = input(\"Enter three numbers : \").split()\n",
    "if len(lists) == 3:\n",
    "    if lists[0] >= lists[1] and lists[0] >= lists[2]:\n",
    "        biggest = lists[0]\n",
    "    elif lists[1] >= lists[0] and lists[1] >= lists[2]:\n",
    "        biggest = lists[1]\n",
    "    else:\n",
    "        biggest = lists[2]\n",
    "    print(biggest)\n",
    "else:\n",
    "    print(\"Enter three numbers!\")"
   ]
  },
  {
   "cell_type": "markdown",
   "metadata": {},
   "source": [
    "##### "
   ]
  },
  {
   "cell_type": "code",
   "execution_count": 28,
   "metadata": {},
   "outputs": [
    {
     "name": "stdout",
     "output_type": "stream",
     "text": [
      "Enter a single digit number: 7.7\n",
      "Enter single digit only\n"
     ]
    }
   ],
   "source": [
    "# 15. Number to Spell\n",
    "num = input(\"Enter a single digit number: \")\n",
    "if len(num) == 1:\n",
    "    try:\n",
    "        num = int(num)\n",
    "        if num == 1:\n",
    "            print(\"One\")\n",
    "        elif num == 2:\n",
    "            print(\"Two\")\n",
    "        elif num == 3:\n",
    "            print(\"Three\")\n",
    "        elif num == 4:\n",
    "            print(\"Four\")\n",
    "        elif num == 5:\n",
    "            print(\"Five\")\n",
    "        elif num == 6:\n",
    "            print(\"Six\")\n",
    "        elif num == 7:\n",
    "            print(\"Seven\")\n",
    "        elif num == 8:\n",
    "            print(\"Eight\")\n",
    "        elif num == 9:\n",
    "            print(\"Nine\")\n",
    "        elif num == 0:\n",
    "            print(\"Zero\")\n",
    "    except:\n",
    "        print(\"An Exception Occurred!\\nPlease enter number only.\")\n",
    "else:\n",
    "    print(\"Enter single digit only\")"
   ]
  },
  {
   "cell_type": "code",
   "execution_count": 40,
   "metadata": {},
   "outputs": [
    {
     "name": "stdout",
     "output_type": "stream",
     "text": [
      "Enter a number : 0\n",
      "Number is Zero!\n"
     ]
    }
   ],
   "source": [
    "# 16. Positive Negative Zero\n",
    "num = input(\"Enter a number : \")\n",
    "try:\n",
    "    num = int(num)\n",
    "    if num == 0:\n",
    "        print(\"Number is Zero!\")\n",
    "    elif num > 0:\n",
    "        print(\"Number is positive!\")\n",
    "    elif num < 0:\n",
    "        print(\"Number is negative!\")\n",
    "except:\n",
    "    print(\"Enter a number only!\")"
   ]
  },
  {
   "cell_type": "code",
   "execution_count": 46,
   "metadata": {},
   "outputs": [
    {
     "name": "stdout",
     "output_type": "stream",
     "text": [
      "Enter a number :50\n",
      "Number is not in range of 5 to 50!.\n"
     ]
    }
   ],
   "source": [
    "# 16. Number is in range\n",
    "num = int(input(\"Enter a number :\"))\n",
    "if num in range(5, 51):\n",
    "    print(\"Number is in range of 5 to 50!.\")\n",
    "else:\n",
    "    print(\"Number is not in range of 5 to 50!.\")"
   ]
  },
  {
   "cell_type": "code",
   "execution_count": 9,
   "metadata": {},
   "outputs": [
    {
     "name": "stdout",
     "output_type": "stream",
     "text": [
      "Enter number limit : 10\n",
      "55\n"
     ]
    }
   ],
   "source": [
    "# 17 sum of n natural numbers\n",
    "num = int(input(\"Enter number limit : \"))\n",
    "sum = 0\n",
    "for i in range(1, num + 1):\n",
    "    sum += i\n",
    "print(sum)"
   ]
  },
  {
   "cell_type": "code",
   "execution_count": 11,
   "metadata": {},
   "outputs": [
    {
     "name": "stdout",
     "output_type": "stream",
     "text": [
      "Enter number limit : 10\n",
      "385\n"
     ]
    }
   ],
   "source": [
    "# 18sum of squares of n natural numbers\n",
    "num = int(input(\"Enter number limit : \"))\n",
    "sumofSquares = 0\n",
    "for i in range(1, num + 1):\n",
    "    sumofSquares += i ** 2\n",
    "print(sumofSquares)"
   ]
  },
  {
   "cell_type": "code",
   "execution_count": 12,
   "metadata": {},
   "outputs": [
    {
     "name": "stdout",
     "output_type": "stream",
     "text": [
      "Enter number limit : 10\n",
      "3025\n"
     ]
    }
   ],
   "source": [
    "# 19 sum of cube of n natural numbers\n",
    "num = int(input(\"Enter number limit : \"))\n",
    "sumofCubes = 0\n",
    "for i in range(1, num + 1):\n",
    "    sumofCubes += i ** 3\n",
    "print(sumofCubes)"
   ]
  },
  {
   "cell_type": "code",
   "execution_count": 69,
   "metadata": {},
   "outputs": [
    {
     "name": "stdout",
     "output_type": "stream",
     "text": [
      "Enter number : -4\n",
      "1\n"
     ]
    }
   ],
   "source": [
    "# 20 Factorial of a number:\n",
    "num = int(input(\"Enter number : \"))\n",
    "factorial = 1\n",
    "for i in range(num, 0, -1):\n",
    "    print(i, end=\"*\") if i != 1 else print(i, end=\"=\")\n",
    "    factorial *= i\n",
    "print(factorial)"
   ]
  },
  {
   "cell_type": "code",
   "execution_count": 5,
   "metadata": {},
   "outputs": [
    {
     "name": "stdout",
     "output_type": "stream",
     "text": [
      "Enter a number to check prime or not:12\n",
      "Not Prime!\n"
     ]
    }
   ],
   "source": [
    "# 21 Prime or not\n",
    "num = int(input(\"Enter a number to check prime or not:\"))\n",
    "flag = False\n",
    "i = 2\n",
    "while i ** 2 <= num:\n",
    "    if num % i == 0:\n",
    "        flag = True\n",
    "\n",
    "    i += 1\n",
    "print(\"Prime!\") if flag == False else print(\"Not Prime!\")"
   ]
  },
  {
   "cell_type": "code",
   "execution_count": 58,
   "metadata": {},
   "outputs": [
    {
     "name": "stdout",
     "output_type": "stream",
     "text": [
      "Enter numbers of fibbonacci : 10\n",
      "0 1 1 2 3 5 8 13 21 34 "
     ]
    }
   ],
   "source": [
    "# 22 Fibbonacci series\n",
    "num = int(input(\"Enter numbers of fibbonacci : \"))\n",
    "a = 0\n",
    "b = 1\n",
    "while num != 0:\n",
    "    print(a, end=\" \")\n",
    "    c = a + b\n",
    "    a = b\n",
    "    b = c\n",
    "    num = num - 1"
   ]
  },
  {
   "cell_type": "code",
   "execution_count": 60,
   "metadata": {},
   "outputs": [
    {
     "name": "stdout",
     "output_type": "stream",
     "text": [
      "10 9 8 7 6 5 4 3 2 1 "
     ]
    }
   ],
   "source": [
    "# 23 Descending order\n",
    "for k in range(10, 0, -1):\n",
    "    print(k, end=\" \")"
   ]
  },
  {
   "cell_type": "code",
   "execution_count": 70,
   "metadata": {
    "scrolled": true
   },
   "outputs": [
    {
     "name": "stdout",
     "output_type": "stream",
     "text": [
      "Enter any number : 5\n",
      "Enter any second number : 8.8\n",
      "13.8\n"
     ]
    }
   ],
   "source": [
    "# 24 Eval Example\n",
    "num1 = eval(input(\"Enter any number : \"))\n",
    "num2 = eval(input(\"Enter any second number : \"))\n",
    "print(num1 + num2)"
   ]
  },
  {
   "cell_type": "code",
   "execution_count": 65,
   "metadata": {},
   "outputs": [
    {
     "name": "stdout",
     "output_type": "stream",
     "text": [
      "Enter any 5 digit number : 36534\n",
      "Sum is : 21\n"
     ]
    }
   ],
   "source": [
    "# 25 Sum of digits\n",
    "num = input(\"Enter any 5 digit number : \")\n",
    "if len(num) == 5:\n",
    "    sum = int(num[0]) + int(num[1]) + int(num[2]) + int(num[3]) + int(num[4])\n",
    "    print(\"Sum is :\", sum)\n",
    "else:\n",
    "    print(\"Enter only five digit number.\")"
   ]
  },
  {
   "cell_type": "code",
   "execution_count": 67,
   "metadata": {},
   "outputs": [
    {
     "name": "stdout",
     "output_type": "stream",
     "text": [
      "Enter any 5 digit number : 45456\n",
      "65454\n"
     ]
    }
   ],
   "source": [
    "# 26 Reverse of 5 digit number\n",
    "num = input(\"Enter any 5 digit number : \")\n",
    "print(num[::-1])"
   ]
  },
  {
   "cell_type": "code",
   "execution_count": 1,
   "metadata": {},
   "outputs": [
    {
     "name": "stdout",
     "output_type": "stream",
     "text": [
      "Enter first  number5\n",
      "Enter second number10\n",
      "Enter third  number15\n",
      "Original numbers are : 5 10 15\n",
      "Swapped numbers are : 15 5 10\n"
     ]
    }
   ],
   "source": [
    "# 28 Swap three numbers\n",
    "x = int(input(\"Enter first  number : \"))\n",
    "y = int(input(\"Enter second number : \"))\n",
    "z = int(input(\"Enter third  number : \"))\n",
    "print(\"Original numbers are :\", x, y, z)\n",
    "x, y, z = z, x, y\n",
    "print(\"Swapped numbers are :\", x, y, z)"
   ]
  },
  {
   "cell_type": "code",
   "execution_count": 29,
   "metadata": {
    "scrolled": true
   },
   "outputs": [
    {
     "name": "stdout",
     "output_type": "stream",
     "text": [
      "Enter the quantity of lines :5\n",
      "1 \n",
      "\n",
      "1 2 \n",
      "\n",
      "1 2 3 \n",
      "\n",
      "1 2 3 4 \n",
      "\n",
      "1 2 3 4 5 \n",
      "\n",
      "------------------------\n",
      "1 \n",
      "\n",
      "2 2 \n",
      "\n",
      "3 3 3 \n",
      "\n",
      "4 4 4 4 \n",
      "\n",
      "5 5 5 5 5 \n",
      "\n",
      "------------------------\n",
      "A \n",
      "\n",
      "A B \n",
      "\n",
      "A B C \n",
      "\n",
      "A B C D \n",
      "\n",
      "A B C D E \n",
      "\n",
      "------------------------\n",
      "A \n",
      "\n",
      "B B \n",
      "\n",
      "C C C \n",
      "\n",
      "D D D D \n",
      "\n",
      "E E E E E \n",
      "\n",
      "------------------------\n",
      "*  \n",
      "\n",
      "*  *  \n",
      "\n",
      "*  *  *  \n",
      "\n",
      "*  *  *  *  \n",
      "\n",
      "*  *  *  *  *  \n",
      "\n",
      "------------------------\n",
      "      *\n",
      "\n",
      "     * *\n",
      "\n",
      "    * * *\n",
      "\n",
      "   * * * *\n",
      "\n",
      "  * * * * *\n",
      "\n"
     ]
    }
   ],
   "source": [
    "# 29 Pattern Printing\n",
    "lim = int(input(\"Enter the quantity of lines :\"))\n",
    "\n",
    "for i in range(1, lim + 1):\n",
    "    for j in range(1, i + 1):\n",
    "        print(j, end=\" \")\n",
    "    print(\"\\n\")\n",
    "\n",
    "print(\"------------------------\")\n",
    "for i in range(1, lim + 1):\n",
    "    for j in range(1, i + 1):\n",
    "        print(i, end=\" \")\n",
    "    print(\"\\n\")\n",
    "\n",
    "print(\"------------------------\")\n",
    "import string\n",
    "\n",
    "alphas = string.ascii_uppercase\n",
    "for i in range(0, lim):\n",
    "    for j in range(0, i + 1):\n",
    "        print(alphas[j], end=\" \")\n",
    "    print(\"\\n\")\n",
    "\n",
    "print(\"------------------------\")\n",
    "for i in range(0, lim):\n",
    "    for j in range(0, i + 1):\n",
    "        print(alphas[i], end=\" \")\n",
    "    print(\"\\n\")\n",
    "\n",
    "print(\"------------------------\")\n",
    "for i in range(0, lim):\n",
    "    for j in range(0, i + 1):\n",
    "        print(\"* \", end=\" \")\n",
    "    print(\"\\n\")\n",
    "\n",
    "print(\"------------------------\")\n",
    "for i in range(0, lim):\n",
    "    for k in range(0, lim - i):\n",
    "        print(end=\" \")\n",
    "    for j in range(0, i + 1):\n",
    "        print(\" *\", end=\" \")\n",
    "    print(\"\\n\")"
   ]
  },
  {
   "cell_type": "code",
   "execution_count": 26,
   "metadata": {},
   "outputs": [
    {
     "name": "stdout",
     "output_type": "stream",
     "text": [
      "Enter Temperature (either Warm or Cold ):Cold\n",
      "Enter Humidity (either Humid or Dry) :Dry\n",
      "Play Tennis\n",
      "Play Tennis\n"
     ]
    }
   ],
   "source": [
    "# 30 Cricket Baksetball Tennis\n",
    "\n",
    "Temperature = input(\"Enter Temperature (either Warm or Cold ):\").title()\n",
    "Humidity = input(\"Enter Humidity (either Humid or Dry) :\").title()\n",
    "if Temperature == \"Warm\":\n",
    "    if Humidity == \"Dry\":\n",
    "        print(\"Play Cricket\")\n",
    "    elif Humidity == \"Humid\":\n",
    "        print(\"Play Basketball\")\n",
    "elif Temperature == \"Cold\":\n",
    "    if Humidity == \"Dry\":\n",
    "        print(\"Play Tennis\")\n",
    "    elif Humidity == \"Humid\":\n",
    "        print(\"Play Cricket\")\n",
    "\n",
    "strings = \"Play \"\n",
    "if Temperature == \"Warm\":\n",
    "    strings = strings + \"Cricket\" if Humidity == \"Dry\" else strings + \"Basketball\"\n",
    "else:\n",
    "    strings = strings + \"Tennis\" if Humidity == \"Dry\" else strings + \"Cricket\"\n",
    "print(strings)"
   ]
  },
  {
   "cell_type": "code",
   "execution_count": 27,
   "metadata": {},
   "outputs": [
    {
     "name": "stdout",
     "output_type": "stream",
     "text": [
      "Enter a string with spaces : (Trailing or leading ) :   Python   .   \n",
      "String with stripped whitespaces :'Python   .'\n",
      "String with stripped whitespaces at left :'Python   .   '\n",
      "String with stripped whitespaces at right :'  Python   .'"
     ]
    }
   ],
   "source": [
    "# 31 String Strip\n",
    "\n",
    "string1 = input(\"Enter a string with spaces : (Trailing or leading ) : \")\n",
    "print(\"String with stripped whitespaces :'{}\".format(string1.strip()), end=\"'\")\n",
    "print()\n",
    "print(\"String with stripped whitespaces at left :'{}\".format(string1.lstrip()), end=\"'\")\n",
    "print()\n",
    "print(\n",
    "    \"String with stripped whitespaces at right :'{}\".format(string1.rstrip()), end=\"'\"\n",
    ")"
   ]
  },
  {
   "cell_type": "code",
   "execution_count": 29,
   "metadata": {
    "scrolled": true
   },
   "outputs": [
    {
     "name": "stdout",
     "output_type": "stream",
     "text": [
      "3  attempts remaining.\n",
      "Enter Password :whad\n",
      "Wrong password!\n",
      "Please try again!\n",
      "\n",
      "2  attempts remaining.\n",
      "Enter Password :fdgfdgk\n",
      "Wrong password!\n",
      "Please try again!\n",
      "\n",
      "1  attempts remaining.\n",
      "Enter Password :fkjhsd\n",
      "Wrong password!\n"
     ]
    }
   ],
   "source": [
    "# 32 Password matching\n",
    "\n",
    "original = \"Python\"\n",
    "count = 3\n",
    "while count > 0:\n",
    "    print(count, \" attempts remaining.\")\n",
    "    userpass = input(\"Enter Password :\")\n",
    "    if userpass == original:\n",
    "        print(\"Welcome to python.\")\n",
    "        count = 0\n",
    "    else:\n",
    "        print(\"Wrong password!\")\n",
    "        if count != 1:\n",
    "            print(\"Please try again!\")\n",
    "            print()\n",
    "        count = count - 1"
   ]
  },
  {
   "cell_type": "code",
   "execution_count": 8,
   "metadata": {},
   "outputs": [
    {
     "name": "stdout",
     "output_type": "stream",
     "text": [
      "101 103 107 109 113 127 131 137 139 149 151 157 163 167 173 179 181 191 193 197 199 "
     ]
    }
   ],
   "source": [
    "# 33 Prime series using For Else\n",
    "for x in range(100, 201):\n",
    "    for y in range(2, x // 2):\n",
    "        if x % y == 0:\n",
    "            break\n",
    "    else:\n",
    "        print(x, end=\" \")"
   ]
  },
  {
   "cell_type": "code",
   "execution_count": 8,
   "metadata": {},
   "outputs": [
    {
     "name": "stdout",
     "output_type": "stream",
     "text": [
      "Enter an integer!\n",
      "Enter a positive number :fdfgh\n"
     ]
    }
   ],
   "source": [
    "# 34 Sum of Odd factors\n",
    "try:\n",
    "    number = int(input(\"Enter a positive number :\"))\n",
    "    if number > 0:\n",
    "        sum = 0\n",
    "        lists = []\n",
    "        for j in range(1, number):\n",
    "            if number % j == 0:\n",
    "                if j % 2 != 0:\n",
    "                    sum = sum + j\n",
    "                    lists.append(j)\n",
    "        else:\n",
    "            print(\"Odd factors of \", number, \" are :\")\n",
    "            i = 0\n",
    "            while i < len(lists):\n",
    "                if i == len(lists) - 1:\n",
    "                    print(lists[i], \" = \", end=\"\")\n",
    "                else:\n",
    "                    print(lists[i], \" + \", end=\"\")\n",
    "                i = i + 1\n",
    "            print(sum)\n",
    "    else:\n",
    "        print(\"Enter a positive number!\")\n",
    "except:\n",
    "    print(\"Enter an integer!\")"
   ]
  },
  {
   "cell_type": "code",
   "execution_count": 32,
   "metadata": {},
   "outputs": [
    {
     "name": "stdout",
     "output_type": "stream",
     "text": [
      "Number of Occurence of Neha in list : 3\n"
     ]
    }
   ],
   "source": [
    "# 35 Occurence Counter\n",
    "namelist = [\n",
    "    \"Adams\",\n",
    "    \"Baker\",\n",
    "    \"Neha\",\n",
    "    \"Clark\",\n",
    "    \"Davis\",\n",
    "    \"Evans\",\n",
    "    \"Frank\",\n",
    "    \"Ghosh\",\n",
    "    \"Neha\",\n",
    "    \"Hills\",\n",
    "    \"Irwin\",\n",
    "    \"Jones\",\n",
    "    \"Klein\",\n",
    "    \"Lopez\",\n",
    "    \"Mason\",\n",
    "    \"Neha\",\n",
    "    \"Nalty\",\n",
    "    \"Ochoa\",\n",
    "    \"Patel\",\n",
    "    \"Quinn\",\n",
    "    \"Reily\",\n",
    "]\n",
    "print(\"Number of Occurence of Neha in list :\", namelist.count(\"Neha\"))"
   ]
  },
  {
   "cell_type": "code",
   "execution_count": 37,
   "metadata": {},
   "outputs": [
    {
     "name": "stdout",
     "output_type": "stream",
     "text": [
      "List A with Squares: [1, 4, 9, 16, 25, 36, 49, 64, 81, 100]\n",
      "\n",
      "List B with Cubes: [1, 8, 27, 64, 125, 216, 343, 512, 729, 1000]\n",
      "\n",
      "List C with Even in List A: [4, 16, 36, 64, 100]\n",
      "\n"
     ]
    }
   ],
   "source": [
    "# 36 Three lists square cubes evens\n",
    "listA = [j ** 2 for j in range(1, 11)]\n",
    "listB = [j ** 3 for j in range(1, 11)]\n",
    "listC = [j for j in listA if j % 2 == 0]\n",
    "\n",
    "print(\"List A with Squares:\", listA, end=\"\\n\\n\")\n",
    "print(\"List B with Cubes:\", listB, end=\"\\n\\n\")\n",
    "print(\"List C with Even in List A:\", listC, end=\"\\n\\n\")"
   ]
  },
  {
   "cell_type": "code",
   "execution_count": 55,
   "metadata": {},
   "outputs": [
    {
     "name": "stdout",
     "output_type": "stream",
     "text": [
      "[5, 7, 8, 30]\n"
     ]
    }
   ],
   "source": [
    "# 37 List with hetero elements sorted by int\n",
    "\n",
    "l1 = [\"c\", True, 5, \"DSAFf\", (4, 6), 7, \"Hi\", 8, 30]\n",
    "\n",
    "l2 = [element for element in l1 if type(element) is int]\n",
    "print(l2)"
   ]
  },
  {
   "cell_type": "code",
   "execution_count": 43,
   "metadata": {},
   "outputs": [
    {
     "name": "stdout",
     "output_type": "stream",
     "text": [
      "H e l l   m y   a m e   i s   P y o n "
     ]
    }
   ],
   "source": [
    "# 38 Word1 in word 2\n",
    "word1 = \"HellO my Name is Python\"\n",
    "word2 = \"Hello My name is C Plus Plus\"\n",
    "for i in word1:\n",
    "    if i in word2:\n",
    "        print(i, end=\" \")"
   ]
  },
  {
   "cell_type": "code",
   "execution_count": 54,
   "metadata": {},
   "outputs": [
    {
     "name": "stdout",
     "output_type": "stream",
     "text": [
      "Lower = 10\n",
      "Upper = 7\n",
      "other= 3\n"
     ]
    }
   ],
   "source": [
    "# 39 Upper Lower Counter\n",
    "upper, lower, other = 0, 0, 0\n",
    "string = \"HeLLo tHiS IS python 4587\"\n",
    "for i in range(len(str)):\n",
    "    if string[i] >= \"a\" and string[i] <= \"z\":\n",
    "        lower += 1\n",
    "    elif string[i] >= \"A\" and string[i] <= \"Z\":\n",
    "        upper += 1\n",
    "    else:\n",
    "        other += 1\n",
    "print(\"Lower =\", lower)\n",
    "print(\"Upper =\", upper)\n",
    "print(\"other=\", other)"
   ]
  },
  {
   "cell_type": "code",
   "execution_count": 6,
   "metadata": {},
   "outputs": [
    {
     "name": "stdout",
     "output_type": "stream",
     "text": [
      "['Ravi', 'Gopal', 'Dharmendra', 'Soham', 'Ram', 'Raju', 'Rahul', 'Gautam']\n",
      "[488, 644, 253]\n",
      "Soham Removed\n",
      "3\n",
      "Length of the list 3\n",
      "Length of Rolls 6\n",
      "Length of Names 6\n",
      "Length of Father Names 6\n",
      "Min of marks : 13\n",
      "Max of marks : 86\n",
      "Sum of marks : 360\n"
     ]
    }
   ],
   "source": [
    "# 40 List Operations\n",
    "lists = [[687, 644, 253, 875], [\"Ravi\", \"Soham\", \"Ram\", \"Raju\"]]\n",
    "\n",
    "# 1 Append\n",
    "lists[0].append(546)\n",
    "lists[0].append(674)\n",
    "lists[1].append(\"Rahul\")\n",
    "lists[1].append(\"Gautam\")\n",
    "# 2 Insert\n",
    "\n",
    "lists[0].insert(1, 754)\n",
    "lists[0].insert(2, 488)\n",
    "lists[1].insert(1, \"Gopal\")\n",
    "lists[1].insert(2, \"Dharmendra\")\n",
    "\n",
    "# 3 Extend\"\n",
    "lists.extend(\n",
    "    [\n",
    "        [\n",
    "            \"Ghanshyam\",\n",
    "            \"Baliram\",\n",
    "            \"Chainsingh\",\n",
    "            \"Ramlal\",\n",
    "            \"Mohanlal\",\n",
    "            \"Purabsingh\",\n",
    "            \"Bholaram\",\n",
    "            \"Udaysingh\",\n",
    "        ]\n",
    "    ]\n",
    ")\n",
    "\n",
    "# 4 print\n",
    "print(lists[1])\n",
    "\n",
    "# 5 print roll\n",
    "print(lists[0][2:5:1])\n",
    "\n",
    "# 6 replace item\n",
    "lists[1][2] = \"Ravi\"\n",
    "\n",
    "# 7 delete item by index\n",
    "del lists[0][5]\n",
    "del lists[1][5]\n",
    "del lists[2][5]\n",
    "\n",
    "# 8 delete by item\n",
    "if \"Soham\" in lists[1]:\n",
    "    index = lists[1].index(\"Soham\")\n",
    "    del lists[0][index]\n",
    "    del lists[2][index]\n",
    "    lists[1].remove(\"Soham\")\n",
    "    print(\"Soham Removed\")\n",
    "else:\n",
    "    print(\"Soham not Found\")\n",
    "\n",
    "# 9 Find index value by item\n",
    "\n",
    "print(lists[1].index(\"Ram\")) if \"Ram\" in lists[1] else print(\"Not found\")\n",
    "\n",
    "# 10 Length of the list\n",
    "print(\"Length of the list\", len(lists))\n",
    "print(\"Length of Rolls\", len(lists[0]))\n",
    "print(\"Length of Names\", len(lists[1]))\n",
    "print(\"Length of Father Names\", len(lists[2]))\n",
    "\n",
    "# 11 Add a sublist of marks\n",
    "\n",
    "lists.extend([[23, 53, 25, 75, 13, 85, 86]])\n",
    "\n",
    "# 12 Min Max Sum\n",
    "\n",
    "print(\"Min of marks :\", min(lists[3]))\n",
    "print(\"Max of marks :\", max(lists[3]))\n",
    "print(\"Sum of marks :\", sum(lists[3]))"
   ]
  },
  {
   "cell_type": "code",
   "execution_count": 52,
   "metadata": {},
   "outputs": [
    {
     "name": "stdout",
     "output_type": "stream",
     "text": [
      "()\n",
      "(10,) (1050,)\n",
      "(10, 1050)\n",
      "((10, 1050), (1050,), (10,))\n",
      "(10, 1050, 10, 1050, 10, 1050)\n",
      "(10, 10, 10)\n",
      "(1050, 10, 1050, 10, 1050, 10)\n",
      "6\n",
      "[10, 1050, 10, 1050, 10, 1050]\n",
      "Max :  1050\n",
      "Min :  10\n",
      "Sum :  3180\n",
      "Count :  3\n"
     ]
    }
   ],
   "source": [
    "# 41 $$ 42 Tuple operations\n",
    "# 1 Empty tuple\n",
    "\n",
    "tup = ()\n",
    "print(tup)\n",
    "# 2 singleton\n",
    "\n",
    "tup = (10,)\n",
    "tup2 = (1050,)\n",
    "print(tup, tup2)\n",
    "# 3 Concatenation\n",
    "\n",
    "tup3 = tup + tup2\n",
    "print(tup3)\n",
    "\n",
    "# 4 nesting of tuples\n",
    "\n",
    "tup4 = tup3, tup2, tup\n",
    "print(tup4)\n",
    "\n",
    "# 5 repetition\n",
    "\n",
    "tup5 = tup3 * 3\n",
    "print(tup5)\n",
    "\n",
    "# 6 immutable\n",
    "\n",
    "# tup5[0]=65\n",
    "\n",
    "# 7 slicing\n",
    "print(tup5[::2])\n",
    "print(tup5[::-1])\n",
    "\n",
    "# 8 deleting\n",
    "\n",
    "del tup4\n",
    "\n",
    "# print(tup4)\n",
    "\n",
    "# 9 length\n",
    "\n",
    "print(len(tup5))\n",
    "\n",
    "# 10 to list\n",
    "\n",
    "list1 = list(tup5)\n",
    "\n",
    "print(list1)\n",
    "\n",
    "\n",
    "# 11 Max min sum\n",
    "\n",
    "print(\"Max : \", max(tup5))\n",
    "print(\"Min : \", min(tup5))\n",
    "print(\"Sum : \", sum(tup5))\n",
    "print(\"Count of 10 : \", tup5.count(10))"
   ]
  },
  {
   "cell_type": "code",
   "execution_count": 75,
   "metadata": {
    "scrolled": true
   },
   "outputs": [
    {
     "name": "stdout",
     "output_type": "stream",
     "text": [
      "-3\n",
      "-69\n",
      "225\n",
      "280\n",
      "99\n",
      "87\n",
      "(4, 65, 3, 6, 3, 'DSF', 'Hello')\n",
      "None\n",
      "Multiple return : ('Hello', 76, 'Rohan')\n"
     ]
    }
   ],
   "source": [
    "# 43 Functions examples :\n",
    "# 1 position Arguments\n",
    "def summation(arg, arg2):\n",
    "    return arg - arg2\n",
    "\n",
    "\n",
    "print(summation(6, 9))\n",
    "print(summation(9, 78))\n",
    "\n",
    "# 2 Keyword Arguments :\n",
    "def func(we, are, arguments):\n",
    "    return we * are * arguments\n",
    "\n",
    "\n",
    "print(func(we=5, are=10, arguments=98))  # keyword\n",
    "print(\n",
    "    func(arguments=7, we=8, are=19)\n",
    ")  # can change position while mentioning the name AKA keyword\n",
    "\n",
    "# 3 Default Arguments :\n",
    "def maxi(num1=99, num2=45):\n",
    "    return num1 if num1 > num2 else num2\n",
    "\n",
    "\n",
    "print(maxi())  # if not provided any argument 99 and 45 will be passed\n",
    "print(maxi(54, 87))\n",
    "\n",
    "# 4 variable length args\n",
    "\n",
    "\n",
    "def varlength(*tuple):\n",
    "    print(tuple)  # printing all the values of arguments\n",
    "\n",
    "\n",
    "print(varlength(4, 65, 3, 6, 3, \"DSF\", \"Hello\"))\n",
    "print(varlength(4, \"hi\", True, 6, 3, \"DSF\", \"Hello\"))\n",
    "\n",
    "\n",
    "# 5 Multi Return\n",
    "\n",
    "\n",
    "def MultipleReturn(*tuple):\n",
    "    return tuple[::2]  # returning every second value\n",
    "\n",
    "\n",
    "print(\"Multiple return :\", MultipleReturn(\"Hello\", \"Rajiv\", 76, \"Aanand\", \"Rohan\"))"
   ]
  },
  {
   "cell_type": "code",
   "execution_count": 45,
   "metadata": {},
   "outputs": [
    {
     "name": "stdout",
     "output_type": "stream",
     "text": [
      "Enter the word :hariom\n",
      "Enter the letter : m\n",
      "Occurence of m in hariom is : 1\n"
     ]
    }
   ],
   "source": [
    "# 44 Manual Count letter\n",
    "\n",
    "\n",
    "def countLetter(word, letter):\n",
    "    count = 0\n",
    "    if letter in word:\n",
    "        for i in word:\n",
    "            if i in letter:\n",
    "                count += 1\n",
    "    else:\n",
    "        print(\"Not Found\")\n",
    "    # count=word.count(letter)    Second Way of doing the same thing\n",
    "    return count\n",
    "\n",
    "\n",
    "word = input(\"Enter the word :\")\n",
    "letter = input(\"Enter the letter : \")\n",
    "print(\"Occurence of {} in {} is :\".format(letter, word), countLetter(word, letter))"
   ]
  },
  {
   "cell_type": "code",
   "execution_count": 8,
   "metadata": {},
   "outputs": [
    {
     "name": "stdout",
     "output_type": "stream",
     "text": [
      "Enter the list elements : (separate by space) :sdffg der tfd t34f 4 trvs rt43\n",
      "['sdffg', 'der', 'tfd', 't34f', '4', 'trvs', 'rt43'] Length = 7\n",
      "Enter the length of first part : 7\n",
      "Enter length less than original list!\n"
     ]
    }
   ],
   "source": [
    "# 45 Split the list\n",
    "def splitter(list, length):\n",
    "    part1 = list[:length]\n",
    "    part2 = list[length::]\n",
    "    return part1, part2\n",
    "\n",
    "\n",
    "list = input(\"Enter the list elements : (separate by space) :\").split()\n",
    "print(list, \"Length =\", len(list))\n",
    "length = int(input(\"Enter the length of first part : \"))\n",
    "if length < len(list):\n",
    "    tuple = splitter(list, length)\n",
    "    print(\"First part is :\", tuple[0])\n",
    "    print(\"Second part is :\", tuple[1])\n",
    "else:\n",
    "    print(\"Enter length less than original list!\")"
   ]
  },
  {
   "cell_type": "code",
   "execution_count": null,
   "metadata": {},
   "outputs": [],
   "source": [
    "# 46 Is list palindrome\n",
    "\n",
    "\n",
    "def isPalindrome(list):\n",
    "    if list == list[::-1]:\n",
    "        return True\n",
    "    else:\n",
    "        return False\n",
    "\n",
    "\n",
    "list = input(\"Enter the list elements to check it is palindrome or not :\").split()\n",
    "\n",
    "print(isPalindrome(list))"
   ]
  },
  {
   "cell_type": "code",
   "execution_count": 2,
   "metadata": {},
   "outputs": [
    {
     "name": "stdout",
     "output_type": "stream",
     "text": [
      "Enter Principal Amount :200\n",
      "Enter Rate :45\n",
      "Enter time in years :53\n",
      "Simple interest is :  4770.0\n",
      "Simple interest is :  25.0\n"
     ]
    }
   ],
   "source": [
    "# 48 function  default arguments\n",
    "\n",
    "\n",
    "def simpleInterest(principal, rate=2.5, time=5):\n",
    "    print(\"Simple interest is : \", (principal * rate * time) / 100)\n",
    "\n",
    "\n",
    "try:\n",
    "    principal = float(input(\"Enter Principal Amount :\"))\n",
    "    rate = float(input(\"Enter Rate :\"))\n",
    "    time = float(input(\"Enter time in years :\"))\n",
    "    simpleInterest(principal, rate, time)\n",
    "    simpleInterest(principal)\n",
    "except:\n",
    "    print(\"Enter Correct Input!\")"
   ]
  },
  {
   "cell_type": "code",
   "execution_count": 9,
   "metadata": {},
   "outputs": [
    {
     "name": "stdout",
     "output_type": "stream",
     "text": [
      "Enter the length of fibonacci : 9\n",
      "0 1 1 2 3 5 8 13 21 34 "
     ]
    }
   ],
   "source": [
    "# 49 fibbonacci recursive\n",
    "\n",
    "\n",
    "def recursive(n):\n",
    "    if n == 0:\n",
    "        return 0\n",
    "    elif n == 1 or n == 2:\n",
    "        return 1\n",
    "    else:\n",
    "        return recursive(n - 1) + recursive(n - 2)\n",
    "\n",
    "\n",
    "num = int(input(\"Enter the length of fibonacci : \"))\n",
    "for i in range(0, num + 1):\n",
    "    print(recursive(i), end=\" \")"
   ]
  },
  {
   "cell_type": "code",
   "execution_count": 44,
   "metadata": {},
   "outputs": [
    {
     "name": "stdout",
     "output_type": "stream",
     "text": [
      "13608\n",
      "24\n"
     ]
    }
   ],
   "source": [
    "# 50 multily variable number of arguments\n",
    "def multiArgs(*args):\n",
    "    if len(args) >= 2:\n",
    "        multiply = 1\n",
    "        for i in args:\n",
    "            multiply = multiply * i\n",
    "        return multiply\n",
    "    else:\n",
    "        return 1\n",
    "\n",
    "\n",
    "print(multiArgs(1, 2, 3, 54, 42))\n",
    "print(multiArgs(3, 4, 2))"
   ]
  },
  {
   "cell_type": "code",
   "execution_count": 6,
   "metadata": {},
   "outputs": [
    {
     "name": "stdout",
     "output_type": "stream",
     "text": [
      "Enter a string :hariom\n",
      "{'a': 0, 'e': 0, 'i': 0, 'o': 0, 'u': 0}\n",
      "{'a': 1, 'e': 0, 'i': 1, 'o': 1, 'u': 0}\n"
     ]
    }
   ],
   "source": [
    "# 51 vowel in a string with dictionary\n",
    "vowels = [\"a\", \"e\", \"i\", \"o\", \"u\"]\n",
    "word = input(\"Enter a string :\").lower()\n",
    "d = {}.fromkeys([\"a\", \"e\", \"i\", \"o\", \"u\"], 0)\n",
    "print(d)\n",
    "for w in word:\n",
    "    if w in vowels:\n",
    "        d[w] = d.get(w) + 1\n",
    "\n",
    "print()\n",
    "print(d)"
   ]
  },
  {
   "cell_type": "code",
   "execution_count": 2,
   "metadata": {},
   "outputs": [
    {
     "name": "stdout",
     "output_type": "stream",
     "text": [
      "{'python': 36.5, 'is': 65.0, 'easy': 98.0, 'language': 79.0, 'and': 59.5, 'any': 70.0, 'good': 24.0, 'best': 95.0}\n"
     ]
    }
   ],
   "source": [
    "# 52 mean of values in set of dictionaries\n",
    "\n",
    "lst = [\n",
    "    {\"python\": 30, \"is\": 65, \"easy\": 98, \"language\": 93},\n",
    "    {\"and\": 44, \"python\": 43, \"any\": 70, \"good\": 5},\n",
    "    {\"good\": 43, \"language\": 65, \"and\": 75, \"best\": 95},\n",
    "]\n",
    "\n",
    "new_dict = {}\n",
    "counter = {}\n",
    "for i in range(len(lst)):\n",
    "    for key, value in lst[i].items():\n",
    "        if key in new_dict:\n",
    "            new_dict[key] += value\n",
    "            counter[key] += 1\n",
    "        else:\n",
    "            new_dict[key] = value\n",
    "            counter[key] = 1\n",
    "result_dict = {}\n",
    "for key, value in new_dict.items():\n",
    "    result_dict[key] = value / counter[key]\n",
    "print(result_dict)"
   ]
  },
  {
   "cell_type": "code",
   "execution_count": 12,
   "metadata": {},
   "outputs": [
    {
     "name": "stdout",
     "output_type": "stream",
     "text": [
      "How many key values you want in dict 1 :3\n",
      "Enter 1 Key :key1\n",
      "Enter 1 Value :value1\n",
      "Enter 2 Key :key2\n",
      "Enter 2 Value :value2\n",
      "Enter 3 Key :Key3\n",
      "Enter 3 Value :value\n",
      "How many key values you want in dict 1 :2\n",
      "Enter 1 Key :kley2 2\n",
      "Enter 1 Value :value 1 2\n",
      "Enter 2 Key :key 2 3\n",
      "Enter 2 Value :value True\n",
      "Merged dictionaries are  : {'key1': 'value1', 'key2': 'value2', 'Key3': 'value', 'kley2 2': 'value 1 2', 'key 2 3': 'value True'}\n"
     ]
    }
   ],
   "source": [
    "# 53 Merge two dictionaries\n",
    "\n",
    "dict1 = {}\n",
    "dict2 = {}\n",
    "n = int(input(\"How many key values you want in dict 1 :\"))\n",
    "for i in range(n):\n",
    "    keys = input(\"Enter {} Key :\".format(i + 1))\n",
    "    values = input(\"Enter {} Value :\".format(i + 1))\n",
    "    dict1[keys] = values\n",
    "n = int(input(\"How many key values you want in dict 2 :\"))\n",
    "for i in range(n):\n",
    "    keys = input(\"Enter {} Key :\".format(i + 1))\n",
    "    values = input(\"Enter {} Value :\".format(i + 1))\n",
    "    dict2[keys] = values\n",
    "dict1.update(dict2)\n",
    "print(\"Merged dictionaries are  :\", dict1)"
   ]
  },
  {
   "cell_type": "code",
   "execution_count": 13,
   "metadata": {},
   "outputs": [
    {
     "name": "stdout",
     "output_type": "stream",
     "text": [
      "75\n"
     ]
    }
   ],
   "source": [
    "# 54 Print marks from given dictionary\n",
    "sampleDict = {\n",
    "    \"class\": {\"stud\": {\"name\": \"Mukesh\", \"marks\": {\"Maths\": 75, \"Chemistry\": 80}}}\n",
    "}\n",
    "\n",
    "print(sampleDict[\"class\"][\"stud\"][\"marks\"][\"Maths\"])"
   ]
  },
  {
   "cell_type": "code",
   "execution_count": 22,
   "metadata": {},
   "outputs": [
    {
     "name": "stdout",
     "output_type": "stream",
     "text": [
      "{'a': 14, 'b': 14, 'c': 16, 'd': 9, 'e': 13, 'f': 26, 'g': 14, 'h': 18, 'i': 24, 'j': 17, 'k': 22, 'l': 4, 'm': 20, 'n': 24, 'o': 25, 'p': 16, 'q': 1, 'r': 1, 's': 13, 't': 4, 'u': 6, 'v': 3, 'w': 11, 'x': 6, 'y': 11, 'z': 19}\n",
      "\n",
      "\n",
      "{'a': 'even', 'b': 'even', 'c': 'even', 'd': 'odd', 'e': 'odd', 'f': 'even', 'g': 'even', 'h': 'even', 'i': 'even', 'j': 'odd', 'k': 'even', 'l': 'even', 'm': 'even', 'n': 'even', 'o': 'odd', 'p': 'even', 'q': 'odd', 'r': 'odd', 's': 'odd', 't': 'even', 'u': 'even', 'v': 'odd', 'w': 'odd', 'x': 'even', 'y': 'odd', 'z': 'odd'}\n"
     ]
    }
   ],
   "source": [
    "# 55 Write a program using dictionary comprehension to store \"odd\" for odd values and \"even\" for even values\n",
    "import string\n",
    "import random\n",
    "\n",
    "alphabets = string.ascii_lowercase\n",
    "d = {}\n",
    "for c in alphabets:\n",
    "    d[c] = random.randint(1, 26)\n",
    "print(d)\n",
    "print(\"\\n\")\n",
    "new_dict = {k: \"even\" if value % 2 == 0 else \"odd\" for k, value in d.items()}\n",
    "\n",
    "print(new_dict)"
   ]
  },
  {
   "cell_type": "code",
   "execution_count": null,
   "metadata": {},
   "outputs": [],
   "source": []
  }
 ],
 "metadata": {
  "kernelspec": {
   "display_name": "Python 3",
   "language": "python",
   "name": "python3"
  },
  "language_info": {
   "codemirror_mode": {
    "name": "ipython",
    "version": 3
   },
   "file_extension": ".py",
   "mimetype": "text/x-python",
   "name": "python",
   "nbconvert_exporter": "python",
   "pygments_lexer": "ipython3",
   "version": "3.8.6"
  }
 },
 "nbformat": 4,
 "nbformat_minor": 2
}
