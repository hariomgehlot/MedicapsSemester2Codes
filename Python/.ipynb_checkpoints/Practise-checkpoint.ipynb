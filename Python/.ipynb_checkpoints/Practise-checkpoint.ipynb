{
 "cells": [
  {
   "cell_type": "code",
   "execution_count": 1,
   "metadata": {},
   "outputs": [
    {
     "name": "stdout",
     "output_type": "stream",
     "text": [
      "Enter a character: \n",
      "h\n",
      "ASCII Value ofhis  104\n"
     ]
    }
   ],
   "source": [
    "#ASCII OF CHARACTER\n",
    "print(\"Enter a character: \")\n",
    "ch = input()\n",
    "print(\"ASCII Value of \"+ch+\" is \",ord(ch))\n"
   ]
  },
  {
   "cell_type": "code",
   "execution_count": null,
   "metadata": {},
   "outputs": [],
   "source": []
  },
  {
   "cell_type": "code",
   "execution_count": 16,
   "metadata": {},
   "outputs": [
    {
     "name": "stdout",
     "output_type": "stream",
     "text": [
      "Enter a number to check even or odd : 4\n",
      "Even\n"
     ]
    }
   ],
   "source": [
    "#EVEN_ODD\n",
    "num = int(input(\"Enter a number to check even or odd : \"))\n",
    "print(\"Even\") if (num%2==0) else print(\"Odd\")"
   ]
  },
  {
   "cell_type": "code",
   "execution_count": 33,
   "metadata": {},
   "outputs": [
    {
     "name": "stdout",
     "output_type": "stream",
     "text": [
      "Enter number to check palindrome : 1221\n",
      "Palindrome\n"
     ]
    }
   ],
   "source": [
    "#palindrome\n",
    "num = input(\"Enter number to check palindrome : \")\n",
    "if(len(num)>1):\n",
    "    num=int(num)\n",
    "    dup=num\n",
    "    rev=0\n",
    "    while(num!=0):\n",
    "        dig=num%10\n",
    "        rev=rev*10+dig\n",
    "        num=num//10\n",
    "    print(\"Palindrome\") if (rev==dup) else print(\"Not palindrome\")\n",
    "else:\n",
    "    print(\"Enter more than one digit.\")"
   ]
  },
  {
   "cell_type": "markdown",
   "metadata": {},
   "source": []
  },
  {
   "cell_type": "markdown",
   "metadata": {},
   "source": [
    "### "
   ]
  },
  {
   "cell_type": "code",
   "execution_count": 18,
   "metadata": {},
   "outputs": [
    {
     "name": "stdout",
     "output_type": "stream",
     "text": [
      "Enter a character:n\n",
      "n  is an alphabet.\n",
      "n  is also a consonant\n"
     ]
    }
   ],
   "source": [
    "#vowelConsonant\n",
    "import string\n",
    "char=input(\"Enter a character:\")\n",
    "if len(char)==1:\n",
    "    if char in list(string.ascii_lowercase) or char in list(string.ascii_uppercase):\n",
    "        print(char,\" is an alphabet.\")\n",
    "        vowels =\"AaEeIiOoUu\"\n",
    "        if char in vowels:\n",
    "            print(char, \" is also a vowel.\")\n",
    "        else:\n",
    "            print(char,\" is also a consonant\")\n",
    "    elif char in string.digits:\n",
    "        print(char,\" is an alphanumeric chaaracter.\")\n",
    "    elif char in string.punctuation:\n",
    "        print(char,\" is a punctuation/special character.\")\n",
    "    else:\n",
    "        print(char,\" is a whitespace or printable.\")\n",
    "else:\n",
    "    print(\"Only one length allowed.\")"
   ]
  },
  {
   "cell_type": "code",
   "execution_count": 2,
   "metadata": {},
   "outputs": [
    {
     "name": "stdout",
     "output_type": "stream",
     "text": [
      "10\n"
     ]
    }
   ],
   "source": [
    "print(int(float(\"10.5\")))"
   ]
  },
  {
   "cell_type": "code",
   "execution_count": 6,
   "metadata": {},
   "outputs": [
    {
     "data": {
      "text/plain": [
       "'HElloHElloHEllo'"
      ]
     },
     "execution_count": 6,
     "metadata": {},
     "output_type": "execute_result"
    }
   ],
   "source": [
    "strings=\"HEllo\"\n",
    "strings*3"
   ]
  },
  {
   "cell_type": "code",
   "execution_count": 10,
   "metadata": {},
   "outputs": [
    {
     "ename": "AttributeError",
     "evalue": "module 'string' has no attribute 'strip'",
     "output_type": "error",
     "traceback": [
      "\u001b[0;31m---------------------------------------------------------------------------\u001b[0m",
      "\u001b[0;31mAttributeError\u001b[0m                            Traceback (most recent call last)",
      "\u001b[0;32m<ipython-input-10-fb480d09dcc6>\u001b[0m in \u001b[0;36m<module>\u001b[0;34m\u001b[0m\n\u001b[1;32m      1\u001b[0m \u001b[0;32mimport\u001b[0m \u001b[0mstring\u001b[0m\u001b[0;34m\u001b[0m\u001b[0;34m\u001b[0m\u001b[0m\n\u001b[0;32m----> 2\u001b[0;31m \u001b[0mhelp\u001b[0m\u001b[0;34m(\u001b[0m\u001b[0mstring\u001b[0m\u001b[0;34m.\u001b[0m\u001b[0mstrip\u001b[0m\u001b[0;34m(\u001b[0m\u001b[0;34m)\u001b[0m\u001b[0;34m)\u001b[0m\u001b[0;34m\u001b[0m\u001b[0;34m\u001b[0m\u001b[0m\n\u001b[0m",
      "\u001b[0;31mAttributeError\u001b[0m: module 'string' has no attribute 'strip'"
     ]
    }
   ],
   "source": [
    "import string\n",
    "help(string.strip())"
   ]
  },
  {
   "cell_type": "code",
   "execution_count": 18,
   "metadata": {},
   "outputs": [
    {
     "data": {
      "text/plain": [
       "'Hbbby  Birthday!'"
      ]
     },
     "execution_count": 18,
     "metadata": {},
     "output_type": "execute_result"
    }
   ],
   "source": [
    "string=\"Happy  Birthday!\"\n",
    "string =string.replace('app','bbb')\n",
    "string"
   ]
  },
  {
   "cell_type": "code",
   "execution_count": 32,
   "metadata": {},
   "outputs": [
    {
     "name": "stdout",
     "output_type": "stream",
     "text": [
      "<class 'int'>\n",
      "<class 'float'>\n",
      "0.0\n"
     ]
    }
   ],
   "source": [
    "num=int(1)\n",
    "num2=float(5)\n",
    "print(type(num))\n",
    "print(type(num2))\n",
    "print(num//num2)"
   ]
  },
  {
   "cell_type": "code",
   "execution_count": 42,
   "metadata": {},
   "outputs": [
    {
     "ename": "ZeroDivisionError",
     "evalue": "integer division or modulo by zero",
     "output_type": "error",
     "traceback": [
      "\u001b[0;31m---------------------------------------------------------------------------\u001b[0m",
      "\u001b[0;31mZeroDivisionError\u001b[0m                         Traceback (most recent call last)",
      "\u001b[0;32m<ipython-input-42-952726cd6d13>\u001b[0m in \u001b[0;36m<module>\u001b[0;34m\u001b[0m\n\u001b[0;32m----> 1\u001b[0;31m \u001b[0mg\u001b[0m\u001b[0;34m=\u001b[0m\u001b[0;36m5\u001b[0m\u001b[0;34m//\u001b[0m\u001b[0;36m0\u001b[0m\u001b[0;34m\u001b[0m\u001b[0;34m\u001b[0m\u001b[0m\n\u001b[0m\u001b[1;32m      2\u001b[0m \u001b[0mg\u001b[0m\u001b[0;34m\u001b[0m\u001b[0;34m\u001b[0m\u001b[0m\n",
      "\u001b[0;31mZeroDivisionError\u001b[0m: integer division or modulo by zero"
     ]
    }
   ],
   "source": [
    "g=5//0\n",
    "g"
   ]
  },
  {
   "cell_type": "code",
   "execution_count": 77,
   "metadata": {},
   "outputs": [
    {
     "name": "stdout",
     "output_type": "stream",
     "text": [
      "Enter a number upto 4 digits: 7612\n",
      "Seven Thousand Six Hundred Twelve "
     ]
    }
   ],
   "source": [
    "num=input(\"Enter a number upto 4 digits: \")\n",
    "flag=False\n",
    "counting= [{0:\"Zero\",1:\"One\",2:\"Two\",3:\"Three\",4:\"Four\",5:\"Five\",6:\"Six\",7:\"Seven\",8:\"Eight\",9:\"Nine\"},{1:\"Ten\",2:\"Twenty\",3:\"Thirty\",4:\"Fourty\",5:\"Fifty\",6:\"Sixty\",7:\"Seventy\",8:\"Eighty\",9:\"Ninty\"},{1:\"Eleven\",2:\"Twelve\",3:\"Thirteen\",4:\"Fourteen\",5:\"Fifteen\",6:\"Sixteen\",7:\"Seventeen\",8:\"Eighteen\",9:\"Nineteen\"}]\n",
    "print(counting[0][int(num[0])],\"Thousand\",counting[0][int(num[1])],\"Hundred\",end=\" \")\n",
    "if int(num[2]) ==1:\n",
    "    print(counting[2][int(num[3])],end=\" \")\n",
    "    flag=True\n",
    "else :\n",
    "    print(counting[1][int(num[2])],end=\" \")\n",
    "if not flag:      \n",
    "    print(counting[0][int(num[3])],end=\" \")\n",
    "\n",
    "      \n",
    "    "
   ]
  },
  {
   "cell_type": "code",
   "execution_count": 21,
   "metadata": {},
   "outputs": [
    {
     "name": "stdout",
     "output_type": "stream",
     "text": [
      "[40, 50, 60, 70, 80, 90]\n",
      "<class 'list'>\n"
     ]
    }
   ],
   "source": [
    "s=\"python, programming\"\n",
    "list1=[10,20,30,40,50,60,70,80,90]\n",
    "print(list1[3:20])\n",
    "print(type(list1))"
   ]
  },
  {
   "cell_type": "code",
   "execution_count": 24,
   "metadata": {},
   "outputs": [
    {
     "name": "stdout",
     "output_type": "stream",
     "text": [
      "<class 'str'>\n",
      "<class 'int'>\n",
      "<class 'bool'>\n"
     ]
    }
   ],
   "source": [
    "lists=[\"dsf\",5,True]\n",
    "for i in lists:\n",
    "    print(type(i))"
   ]
  },
  {
   "cell_type": "code",
   "execution_count": null,
   "metadata": {},
   "outputs": [],
   "source": []
  }
 ],
 "metadata": {
  "kernelspec": {
   "display_name": "Python 3",
   "language": "python",
   "name": "python3"
  },
  "language_info": {
   "codemirror_mode": {
    "name": "ipython",
    "version": 3
   },
   "file_extension": ".py",
   "mimetype": "text/x-python",
   "name": "python",
   "nbconvert_exporter": "python",
   "pygments_lexer": "ipython3",
   "version": "3.7.3"
  }
 },
 "nbformat": 4,
 "nbformat_minor": 2
}
